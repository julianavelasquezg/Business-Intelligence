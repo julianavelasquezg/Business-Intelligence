{
  "nbformat": 4,
  "nbformat_minor": 0,
  "metadata": {
    "colab": {
      "provenance": [],
      "mount_file_id": "1DCcevwW0AEpmJz0H0nvA-omCNokMNE6A",
      "authorship_tag": "ABX9TyM1sB1tG8IUfjbIc/zREF3u",
      "include_colab_link": true
    },
    "kernelspec": {
      "name": "python3",
      "display_name": "Python 3"
    },
    "language_info": {
      "name": "python"
    }
  },
  "cells": [
    {
      "cell_type": "markdown",
      "metadata": {
        "id": "view-in-github",
        "colab_type": "text"
      },
      "source": [
        "<a href=\"https://colab.research.google.com/github/julianavelasquezg/Business-Intelligence/blob/main/Reto_2_%C3%81rboles_de_decisi%C3%B3n_Juliana_Vel%C3%A1squez.ipynb\" target=\"_parent\"><img src=\"https://colab.research.google.com/assets/colab-badge.svg\" alt=\"Open In Colab\"/></a>"
      ]
    },
    {
      "cell_type": "markdown",
      "source": [
        "# **Reto 2 - Árboles de decisión**"
      ],
      "metadata": {
        "id": "K5o4pd2HECse"
      }
    },
    {
      "cell_type": "markdown",
      "source": [
        "El análisis de este ejercicio se basará en las siete variables que se explicarán posteriormente. Esto se realiza con el propósito de identificar la precisión del modelo de árboles de decisión para calcular la probabilidad de admisión de alumnos en una universidad.\n",
        "\n",
        "**Descripción de las variables**\n",
        "\n",
        "* **Edu_Parent1:** Indica el nivel educativo alcanzado por el primer padre o tutor del solicitante.\n",
        "* **Edu_Parent2:** Indica el nivel educativo alcanzado por el segundo padre o tutor del solicitante.\n",
        "* **Gender:** Representa el género del solicitante, donde 0 corresponde a masculino y 1 a femenino.\n",
        "* **White:** Variable binaria que indica si el solicitante se identifica como blanco (1) o no (0).\n",
        "* **Asian:** Variable binaria que indica si el solicitante se identifica como asiático (1) o no (0).\n",
        "* **HSGPA:** Promedio de calificaciones obtenido por el solicitante en la educación secundaria (High School GPA).\n",
        "* **SAT/ACT:** Puntaje obtenido por el solicitante en los exámenes de admisión estandarizados SAT o ACT.\n",
        "* **Admitted_Pred:** Indica la admisión del solicitante a la universidad, donde 1 significa admitido y 0 significa no admitido.\n"
      ],
      "metadata": {
        "id": "lSdjOcO7EDIS"
      }
    },
    {
      "cell_type": "markdown",
      "source": [
        "0. Cargamos las librerías de datos"
      ],
      "metadata": {
        "id": "j8KvOOUiNkET"
      }
    },
    {
      "cell_type": "code",
      "execution_count": null,
      "metadata": {
        "colab": {
          "base_uri": "https://localhost:8080/"
        },
        "id": "JHvcsbA7NDrc",
        "outputId": "cd1e7015-0945-4871-c1f4-072843b65e44"
      },
      "outputs": [
        {
          "output_type": "stream",
          "name": "stdout",
          "text": [
            "Drive already mounted at /content/drive; to attempt to forcibly remount, call drive.mount(\"/content/drive\", force_remount=True).\n"
          ]
        }
      ],
      "source": [
        "# Librerías científicas\n",
        "import numpy as np\n",
        "import pandas as pd\n",
        "\n",
        "#Librerías Arbol\n",
        "from sklearn.tree import DecisionTreeClassifier\n",
        "from sklearn.metrics import confusion_matrix\n",
        "\n",
        "#Conectar al Drive\n",
        "from google.colab import drive\n",
        "drive.mount('/content/drive')"
      ]
    },
    {
      "cell_type": "markdown",
      "source": [
        "1. Cargamos la base de datos"
      ],
      "metadata": {
        "id": "oJvitYwiN5ul"
      }
    },
    {
      "cell_type": "code",
      "source": [
        "nxl= '/content/drive/MyDrive/2. CollegeAdmisions_Int_M.xlsx'\n",
        "XDB= pd.read_excel(nxl, sheet_name=0)\n",
        "XDB=XDB.dropna()\n",
        "XDB.head(100)\n",
        "\n",
        "#Cambiar de la variable 'Gender' el M o F por 0 y 1\n",
        "XDB['Gender'] = XDB['Gender'].map({'M': 0, 'F': 1})\n",
        "\n",
        "XD=XDB[['Edu_Parent1','Edu_Parent2','Gender','White','Asian','HSGPA','SAT/ACT']]\n",
        "YD=XDB[['Admitted']]\n"
      ],
      "metadata": {
        "id": "mlVPOpqfN-Oe",
        "colab": {
          "base_uri": "https://localhost:8080/"
        },
        "outputId": "baf87976-17e0-4df6-996f-e81a129d1dcb"
      },
      "execution_count": null,
      "outputs": [
        {
          "output_type": "stream",
          "name": "stderr",
          "text": [
            "<ipython-input-3-ead6cba3b282>:7: SettingWithCopyWarning: \n",
            "A value is trying to be set on a copy of a slice from a DataFrame.\n",
            "Try using .loc[row_indexer,col_indexer] = value instead\n",
            "\n",
            "See the caveats in the documentation: https://pandas.pydata.org/pandas-docs/stable/user_guide/indexing.html#returning-a-view-versus-a-copy\n",
            "  XDB['Gender'] = XDB['Gender'].map({'M': 0, 'F': 1})\n"
          ]
        }
      ]
    },
    {
      "cell_type": "markdown",
      "source": [
        "2. Contamos el número de personas admitidas por la universidad"
      ],
      "metadata": {
        "id": "nDOKxbZ-Re8d"
      }
    },
    {
      "cell_type": "code",
      "source": [
        "#Cambiar la variable 'Admitted' el Yes or No por 1 y 0\n",
        "XDB['Admitted'] = XDB['Admitted'].map({'Yes': 1, 'No': 0})\n",
        "\n",
        "#Contamos el número de datos de la base de datos\n",
        "total_datos=len(XDB)\n",
        "print(f\"El número total de datos de la base de datos es: {total_datos}\")\n",
        "\n",
        "#Ahora contamos el número de personas admitidas\n",
        "admitidos = XDB['Admitted'].sum()\n",
        "print(f\"El número de personas admitidas es: {admitidos}\")"
      ],
      "metadata": {
        "colab": {
          "base_uri": "https://localhost:8080/"
        },
        "id": "Lq20oVTfRidt",
        "outputId": "85da5566-bb4f-42c5-fcce-04d623688481"
      },
      "execution_count": null,
      "outputs": [
        {
          "output_type": "stream",
          "name": "stdout",
          "text": [
            "El número total de datos de la base de datos es: 1528\n",
            "El número de personas admitidas es: 1303\n"
          ]
        }
      ]
    },
    {
      "cell_type": "markdown",
      "source": [
        "3. Comenzamos con la implementación del modelo"
      ],
      "metadata": {
        "id": "39xynMKMT6eB"
      }
    },
    {
      "cell_type": "code",
      "source": [
        "mar=DecisionTreeClassifier(criterion='gini', max_depth=4)\n",
        "mar.fit(XD,YD)\n",
        "\n",
        "#Realizamos la gráfica del árbol de decisión\n",
        "from pydotplus import graph_from_dot_data\n",
        "from sklearn.tree import export_graphviz\n",
        "\n",
        "ve=['Edu_Parent1','Edu_Parent2','Gender','White','Asian','HSGPA','SAT/ACT']\n",
        "dot_data=export_graphviz(mar, feature_names=ve, filled=True, rounded=True)\n",
        "graph=graph_from_dot_data(dot_data)\n",
        "graph.write_png('Reto 2. Arboles de decision.png')"
      ],
      "metadata": {
        "colab": {
          "base_uri": "https://localhost:8080/"
        },
        "id": "zuoFApIVUFUB",
        "outputId": "da307a9b-76e0-4c93-fa02-d8ef36ea9209"
      },
      "execution_count": null,
      "outputs": [
        {
          "output_type": "execute_result",
          "data": {
            "text/plain": [
              "True"
            ]
          },
          "metadata": {},
          "execution_count": 5
        }
      ]
    },
    {
      "cell_type": "markdown",
      "source": [
        "4. Determinamos el número de nodos puros para el árbol asociado con la estructura del modelo."
      ],
      "metadata": {
        "id": "q6U4LUVmWqwA"
      }
    },
    {
      "cell_type": "code",
      "source": [
        "nodos_puros = sum(mar.tree_.impurity == 0.0)\n",
        "print(f\"Número de nodos puros en el árbol: {nodos_puros}\")"
      ],
      "metadata": {
        "colab": {
          "base_uri": "https://localhost:8080/"
        },
        "id": "1kp1J46-X2fr",
        "outputId": "93b78c75-9433-4679-87ee-2096597346b5"
      },
      "execution_count": null,
      "outputs": [
        {
          "output_type": "stream",
          "name": "stdout",
          "text": [
            "Número de nodos puros en el árbol: 7\n"
          ]
        }
      ]
    },
    {
      "cell_type": "markdown",
      "source": [
        "5. Seguimos con el pronostico de admision de los estudiantes"
      ],
      "metadata": {
        "id": "EDD2LwfiYejA"
      }
    },
    {
      "cell_type": "code",
      "source": [
        "# Cargar la base de datos de pronóstico\n",
        "XDB0 = pd.read_excel(nxl, sheet_name=1)\n",
        "XDB0.head(100)\n",
        "\n",
        "# Convertir 'Gender' a valores numéricos\n",
        "XDB0['Gender'] = XDB0['Gender'].map({'M': 0, 'F': 1})\n",
        "\n",
        "# Convertir 'Admitted' a valores numéricos\n",
        "XDB0['Admitted'] = XDB0['Admitted'].map({'Yes': 1, 'No': 0})\n",
        "\n",
        "# Seleccionar las variables de entrada y salida\n",
        "XD0 = XDB0[['Edu_Parent1', 'Edu_Parent2', 'Gender', 'White', 'Asian', 'HSGPA', 'SAT/ACT']].values\n",
        "YD0 = XDB0[['Admitted']].values  # Esto es solo para referencia, no se usa en la predicción\n",
        "\n",
        "# Realizar el pronóstico de admisión para todos los estudiantes\n",
        "y_pred = mar.predict(XD0)\n",
        "\n",
        "# Crear el informe en Excel con los resultados\n",
        "df = pd.DataFrame(np.column_stack((XDB0.index, XD0, y_pred)))\n",
        "df.columns = ['Solicitante', 'Edu_Parent1', 'Edu_Parent2', 'Gender', 'White', 'Asian', 'HSGPA', 'SAT/ACT', 'Admitted_Pred']\n",
        "\n",
        "# Guardar el resultado en un archivo de Excel\n",
        "df.to_excel(\"/content/drive/MyDrive/CollegeAdmisions_Pronostico.xlsx\")\n",
        "\n",
        "print(\"El pronóstico de admisión ha sido guardado en 'CollegeAdmisions_Pronostico.xlsx'.\")\n"
      ],
      "metadata": {
        "colab": {
          "base_uri": "https://localhost:8080/"
        },
        "id": "oLEW4bnPcPTv",
        "outputId": "d16f467f-8f2d-4be1-f9f0-f7ab8781828e"
      },
      "execution_count": null,
      "outputs": [
        {
          "output_type": "stream",
          "name": "stderr",
          "text": [
            "/usr/local/lib/python3.11/dist-packages/sklearn/utils/validation.py:2739: UserWarning: X does not have valid feature names, but DecisionTreeClassifier was fitted with feature names\n",
            "  warnings.warn(\n"
          ]
        },
        {
          "output_type": "stream",
          "name": "stdout",
          "text": [
            "El pronóstico de admisión ha sido guardado en 'CollegeAdmisions_Pronostico.xlsx'.\n"
          ]
        }
      ]
    },
    {
      "cell_type": "markdown",
      "source": [
        "6. Evaluamos el rendimiento del modelo"
      ],
      "metadata": {
        "id": "K4Fb0kk9dCRL"
      }
    },
    {
      "cell_type": "code",
      "source": [
        "YDP=mar.predict(XD) #Pronóstico sobre la base de datos original\n",
        "cm=confusion_matrix(YD,YDP)\n",
        "print(\"La matriz de confusión es: \\n\", cm)\n",
        "\n",
        "VN=cm[0,0];FP=cm[0,1];FN=cm[1,0];VP=cm[1,1]\n",
        "\n",
        "#Métricas de desempeño\n",
        "EX=(VP+VN)/(VP+VN+FP+FN) #Exactitud\n",
        "print('La exactitud del modelo es:\\n',EX)\n",
        "\n",
        "TE=(FN+FP)/(VP+VN+FP+FN) #Tasa de error:\n",
        "print('La tasa de error del modelo es:\\n',TE)\n",
        "\n",
        "SE=VP/(VP+FN) #Sensibilidad\n",
        "print('La sensibilidad del modelo es:\\n',SE)\n",
        "\n",
        "SP=VN/(VN+FP) #Especificidad\n",
        "print('La especificidad del modelo es:\\n',SP)\n",
        "\n",
        "PR=VP/(VP+FP) #Precisión\n",
        "print('La precisión del modelo es:\\n',PR)\n",
        "\n",
        "PRNeng=VN/(VN+FN) #Precisión Negativa\n",
        "print('La precisión negativa del modelo es:\\n',PRNeng)"
      ],
      "metadata": {
        "colab": {
          "base_uri": "https://localhost:8080/"
        },
        "id": "xEJqqUyRdYCQ",
        "outputId": "e995724b-b05d-49af-9a15-d21d1949dca8"
      },
      "execution_count": null,
      "outputs": [
        {
          "output_type": "stream",
          "name": "stdout",
          "text": [
            "La matriz de confusión es: \n",
            " [[  20  205]\n",
            " [   2 1301]]\n",
            "La exactitud del modelo es:\n",
            " 0.8645287958115183\n",
            "La tasa de error del modelo es:\n",
            " 0.1354712041884817\n",
            "La sensibilidad del modelo es:\n",
            " 0.9984650805832693\n",
            "La especificidad del modelo es:\n",
            " 0.08888888888888889\n",
            "La precisión del modelo es:\n",
            " 0.8638778220451527\n",
            "La precisión negativa del modelo es:\n",
            " 0.9090909090909091\n"
          ]
        }
      ]
    },
    {
      "cell_type": "markdown",
      "source": [
        "**Análisis de las métricas**\n",
        "\n",
        "El modelo de clasificación fue evaluado con un total de 1528 registros, de los cuales 1303 estudiantes fueron admitidos y 225 no admitidos.\n",
        "\n",
        "A partir de los resultados obtenidos por la matriz de confusión podemos decir que el modelo clasificó correctamente a 1301 estudiantes admitidos (verdaderos positivos) y a 20 no admitidos (verdaderos negativos). Sin embargo, 205 estudiantes que en realidad no fueron admitidos fueron clasificados erróneamente como admitidos (falsos positivos), y solo 2 admitidos fueron clasificados erróneamente como no admitidos (falsos negativos).\n",
        "\n",
        "La exactitud general del modelo es 86.45%, lo que indica un buen desempeño en la clasificación. Su sensibilidad del 99.85% muestra que identifica correctamente casi todos los admitidos, y su precisión del 86.39% indica que la mayoría de los clasificados como admitidos realmente lo son. Sin embargo, la especificidad es solo del 8.89%, lo que sugiere que el modelo tiene dificultades para detectar correctamente a los no admitidos, clasificando erróneamente a muchos de ellos. Esto se refleja en una tasa de error del 13.55%, que aunque no es un valor malo, indica que puede haber mejora en el modelo. La precisión negativa es del 90.91%, lo que significa que la mayoría de los clasificados como no admitidos lo fueron correctamente.\n",
        "\n",
        "En conclusión, el modelo es confiable para predecir admisiones, pero necesita ajustes en la identificación de los no admitidos para mejorar su capacidad de distinguir entre ambos grupos."
      ],
      "metadata": {
        "id": "sI7ZrwF0rkUQ"
      }
    }
  ]
}