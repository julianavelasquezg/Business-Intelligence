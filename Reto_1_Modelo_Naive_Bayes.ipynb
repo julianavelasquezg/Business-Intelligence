{
  "nbformat": 4,
  "nbformat_minor": 0,
  "metadata": {
    "colab": {
      "provenance": [],
      "authorship_tag": "ABX9TyN6rJo7yOThd98p4t7NhI9x",
      "include_colab_link": true
    },
    "kernelspec": {
      "name": "python3",
      "display_name": "Python 3"
    },
    "language_info": {
      "name": "python"
    }
  },
  "cells": [
    {
      "cell_type": "markdown",
      "metadata": {
        "id": "view-in-github",
        "colab_type": "text"
      },
      "source": [
        "<a href=\"https://colab.research.google.com/github/julianavelasquezg/Business-Intelligence/blob/main/Reto_1_Modelo_Naive_Bayes.ipynb\" target=\"_parent\"><img src=\"https://colab.research.google.com/assets/colab-badge.svg\" alt=\"Open In Colab\"/></a>"
      ]
    },
    {
      "cell_type": "markdown",
      "source": [
        "**Reto 1 - Modelo de clasificación (Naive Bayes)**\n",
        "\n",
        "De acuerdo con la base de datos Longitudinal Survey (Apendice A, Conjunto 5: Datos de Levantamiento Longitudinal del Libro Guía Analítica de Negocios Comunicación con Datos), llevar a cabo la implementación de un modelo Naive Bayes para determinar si una persona vive en un área urbana o en un área rural.\n",
        "\n",
        "Para este modelo, tomar las variables socioeconómicas como: **Edad, Educación de los Padres, Estatura, Peso, Ingresos, Escala de Autoestima, Tamaño de la Familia.**\n",
        "Para el análisis de los resultados, es necesario describir cada una de las variables que conforman la base de datos, eliminando de plano los registros que poseen datos faltantes.\n",
        "**Preguntas (Longitudinal Survey):**\n",
        "- ¿Cuál es el número de datos total de la base de datos?\n",
        "- ¿Cuál es el porcentaje de los datos que hacen parte de cada una de las categorías de clasificación?\n",
        "- Determinar el intervalo en el cual se encuentra la variación de la Edad\n",
        "- Determinar el intervalo en el cual se encuentra la variación de la Altura\n",
        "- Determinar el intervalo en el cual se encuentra la variación del Peso de las Personas\n",
        "- ¿Cuál es la exactitud alcanzada por el modelo?\n",
        "- ¿Cuál es la tasa de error alcanzada por el modelo?\n",
        "- ¿Cuál es la Sensibilidad alcanzada por el modelo?\n",
        "- ¿Cuál es la Especificidad alcanzada por el modelo?\n",
        "- ¿Para una persona con las siguientes características ['Age','Mother_Edu','Father_Edu','FamilySize','Self_Esteem','Height','Weight','Income']=[34,12,15,2,24,69,160,48000] indicar si vive en la ciudad o las áreas rurales?\n",
        "\n"
      ],
      "metadata": {
        "id": "1g9Ih4V-7pUz"
      }
    },
    {
      "cell_type": "markdown",
      "source": [
        "**0. Cargar librerías de trabajo**"
      ],
      "metadata": {
        "id": "CiE0qad00F1_"
      }
    },
    {
      "cell_type": "code",
      "source": [
        "import numpy as np #Posee funciones matemáticas\n",
        "import pandas as pd #Comunicación con el excel"
      ],
      "metadata": {
        "id": "3HXtglug0FSG"
      },
      "execution_count": null,
      "outputs": []
    },
    {
      "cell_type": "markdown",
      "source": [
        "**1. Cargar la base de datos**"
      ],
      "metadata": {
        "id": "cL9rR4lCz6Za"
      }
    },
    {
      "cell_type": "code",
      "execution_count": null,
      "metadata": {
        "id": "bcaxp4pbzmfg"
      },
      "outputs": [],
      "source": [
        "nxl='/content/1. BD1_Longitudinal Survey_Int.xlsx'\n",
        "XDB=pd.read_excel(nxl)\n",
        "\n"
      ]
    },
    {
      "cell_type": "markdown",
      "source": [
        "**2. Seleccionar las variables con las que trabajaremos: 'Age','Mother_Edu','Father_Edu','FamilySize','Self_Esteem','Height','Weight','Income'**"
      ],
      "metadata": {
        "id": "J3EonS1c0xlX"
      }
    },
    {
      "cell_type": "code",
      "source": [
        "XDB=XDB[['Age','Urban','Mother_Edu','Father_Edu','FamilySize','Self_Esteem','Height','Weight','Income']]\n",
        "XDB.head(10)"
      ],
      "metadata": {
        "colab": {
          "base_uri": "https://localhost:8080/",
          "height": 363
        },
        "id": "yPxNm7aD1BIu",
        "outputId": "150b6fa7-61cc-48ec-eefa-96535df02a6f"
      },
      "execution_count": null,
      "outputs": [
        {
          "output_type": "execute_result",
          "data": {
            "text/plain": [
              "   Age  Urban  Mother_Edu  Father_Edu  FamilySize  Self_Esteem  Height  \\\n",
              "0   21    1.0         8.0         8.0           5          NaN    65.0   \n",
              "1   20    1.0         5.0         8.0           5         16.0    62.0   \n",
              "2   18    1.0        10.0        12.0           5         20.0     NaN   \n",
              "3   17    1.0        11.0        12.0           5          NaN    67.0   \n",
              "4   20    1.0        12.0        12.0           4         23.0    63.0   \n",
              "5   19    1.0        12.0        12.0           4         27.0    64.0   \n",
              "6   15    1.0        12.0        12.0           3         26.0    65.0   \n",
              "7   21    1.0         9.0         6.0           3         23.0    65.0   \n",
              "8   16    1.0        12.0        10.0           6         26.0    66.0   \n",
              "9   19    1.0        12.0        12.0           3         19.0    66.0   \n",
              "\n",
              "   Weight   Income  \n",
              "0     NaN      NaN  \n",
              "1   120.0      0.0  \n",
              "2     NaN      0.0  \n",
              "3   110.0      NaN  \n",
              "4   130.0      NaN  \n",
              "5   200.0  40000.0  \n",
              "6   131.0  25000.0  \n",
              "7   179.0  27400.0  \n",
              "8   145.0  52000.0  \n",
              "9   115.0      NaN  "
            ],
            "text/html": [
              "\n",
              "  <div id=\"df-43663a5a-900d-4229-a81d-59eeb03ea2d7\" class=\"colab-df-container\">\n",
              "    <div>\n",
              "<style scoped>\n",
              "    .dataframe tbody tr th:only-of-type {\n",
              "        vertical-align: middle;\n",
              "    }\n",
              "\n",
              "    .dataframe tbody tr th {\n",
              "        vertical-align: top;\n",
              "    }\n",
              "\n",
              "    .dataframe thead th {\n",
              "        text-align: right;\n",
              "    }\n",
              "</style>\n",
              "<table border=\"1\" class=\"dataframe\">\n",
              "  <thead>\n",
              "    <tr style=\"text-align: right;\">\n",
              "      <th></th>\n",
              "      <th>Age</th>\n",
              "      <th>Urban</th>\n",
              "      <th>Mother_Edu</th>\n",
              "      <th>Father_Edu</th>\n",
              "      <th>FamilySize</th>\n",
              "      <th>Self_Esteem</th>\n",
              "      <th>Height</th>\n",
              "      <th>Weight</th>\n",
              "      <th>Income</th>\n",
              "    </tr>\n",
              "  </thead>\n",
              "  <tbody>\n",
              "    <tr>\n",
              "      <th>0</th>\n",
              "      <td>21</td>\n",
              "      <td>1.0</td>\n",
              "      <td>8.0</td>\n",
              "      <td>8.0</td>\n",
              "      <td>5</td>\n",
              "      <td>NaN</td>\n",
              "      <td>65.0</td>\n",
              "      <td>NaN</td>\n",
              "      <td>NaN</td>\n",
              "    </tr>\n",
              "    <tr>\n",
              "      <th>1</th>\n",
              "      <td>20</td>\n",
              "      <td>1.0</td>\n",
              "      <td>5.0</td>\n",
              "      <td>8.0</td>\n",
              "      <td>5</td>\n",
              "      <td>16.0</td>\n",
              "      <td>62.0</td>\n",
              "      <td>120.0</td>\n",
              "      <td>0.0</td>\n",
              "    </tr>\n",
              "    <tr>\n",
              "      <th>2</th>\n",
              "      <td>18</td>\n",
              "      <td>1.0</td>\n",
              "      <td>10.0</td>\n",
              "      <td>12.0</td>\n",
              "      <td>5</td>\n",
              "      <td>20.0</td>\n",
              "      <td>NaN</td>\n",
              "      <td>NaN</td>\n",
              "      <td>0.0</td>\n",
              "    </tr>\n",
              "    <tr>\n",
              "      <th>3</th>\n",
              "      <td>17</td>\n",
              "      <td>1.0</td>\n",
              "      <td>11.0</td>\n",
              "      <td>12.0</td>\n",
              "      <td>5</td>\n",
              "      <td>NaN</td>\n",
              "      <td>67.0</td>\n",
              "      <td>110.0</td>\n",
              "      <td>NaN</td>\n",
              "    </tr>\n",
              "    <tr>\n",
              "      <th>4</th>\n",
              "      <td>20</td>\n",
              "      <td>1.0</td>\n",
              "      <td>12.0</td>\n",
              "      <td>12.0</td>\n",
              "      <td>4</td>\n",
              "      <td>23.0</td>\n",
              "      <td>63.0</td>\n",
              "      <td>130.0</td>\n",
              "      <td>NaN</td>\n",
              "    </tr>\n",
              "    <tr>\n",
              "      <th>5</th>\n",
              "      <td>19</td>\n",
              "      <td>1.0</td>\n",
              "      <td>12.0</td>\n",
              "      <td>12.0</td>\n",
              "      <td>4</td>\n",
              "      <td>27.0</td>\n",
              "      <td>64.0</td>\n",
              "      <td>200.0</td>\n",
              "      <td>40000.0</td>\n",
              "    </tr>\n",
              "    <tr>\n",
              "      <th>6</th>\n",
              "      <td>15</td>\n",
              "      <td>1.0</td>\n",
              "      <td>12.0</td>\n",
              "      <td>12.0</td>\n",
              "      <td>3</td>\n",
              "      <td>26.0</td>\n",
              "      <td>65.0</td>\n",
              "      <td>131.0</td>\n",
              "      <td>25000.0</td>\n",
              "    </tr>\n",
              "    <tr>\n",
              "      <th>7</th>\n",
              "      <td>21</td>\n",
              "      <td>1.0</td>\n",
              "      <td>9.0</td>\n",
              "      <td>6.0</td>\n",
              "      <td>3</td>\n",
              "      <td>23.0</td>\n",
              "      <td>65.0</td>\n",
              "      <td>179.0</td>\n",
              "      <td>27400.0</td>\n",
              "    </tr>\n",
              "    <tr>\n",
              "      <th>8</th>\n",
              "      <td>16</td>\n",
              "      <td>1.0</td>\n",
              "      <td>12.0</td>\n",
              "      <td>10.0</td>\n",
              "      <td>6</td>\n",
              "      <td>26.0</td>\n",
              "      <td>66.0</td>\n",
              "      <td>145.0</td>\n",
              "      <td>52000.0</td>\n",
              "    </tr>\n",
              "    <tr>\n",
              "      <th>9</th>\n",
              "      <td>19</td>\n",
              "      <td>1.0</td>\n",
              "      <td>12.0</td>\n",
              "      <td>12.0</td>\n",
              "      <td>3</td>\n",
              "      <td>19.0</td>\n",
              "      <td>66.0</td>\n",
              "      <td>115.0</td>\n",
              "      <td>NaN</td>\n",
              "    </tr>\n",
              "  </tbody>\n",
              "</table>\n",
              "</div>\n",
              "    <div class=\"colab-df-buttons\">\n",
              "\n",
              "  <div class=\"colab-df-container\">\n",
              "    <button class=\"colab-df-convert\" onclick=\"convertToInteractive('df-43663a5a-900d-4229-a81d-59eeb03ea2d7')\"\n",
              "            title=\"Convert this dataframe to an interactive table.\"\n",
              "            style=\"display:none;\">\n",
              "\n",
              "  <svg xmlns=\"http://www.w3.org/2000/svg\" height=\"24px\" viewBox=\"0 -960 960 960\">\n",
              "    <path d=\"M120-120v-720h720v720H120Zm60-500h600v-160H180v160Zm220 220h160v-160H400v160Zm0 220h160v-160H400v160ZM180-400h160v-160H180v160Zm440 0h160v-160H620v160ZM180-180h160v-160H180v160Zm440 0h160v-160H620v160Z\"/>\n",
              "  </svg>\n",
              "    </button>\n",
              "\n",
              "  <style>\n",
              "    .colab-df-container {\n",
              "      display:flex;\n",
              "      gap: 12px;\n",
              "    }\n",
              "\n",
              "    .colab-df-convert {\n",
              "      background-color: #E8F0FE;\n",
              "      border: none;\n",
              "      border-radius: 50%;\n",
              "      cursor: pointer;\n",
              "      display: none;\n",
              "      fill: #1967D2;\n",
              "      height: 32px;\n",
              "      padding: 0 0 0 0;\n",
              "      width: 32px;\n",
              "    }\n",
              "\n",
              "    .colab-df-convert:hover {\n",
              "      background-color: #E2EBFA;\n",
              "      box-shadow: 0px 1px 2px rgba(60, 64, 67, 0.3), 0px 1px 3px 1px rgba(60, 64, 67, 0.15);\n",
              "      fill: #174EA6;\n",
              "    }\n",
              "\n",
              "    .colab-df-buttons div {\n",
              "      margin-bottom: 4px;\n",
              "    }\n",
              "\n",
              "    [theme=dark] .colab-df-convert {\n",
              "      background-color: #3B4455;\n",
              "      fill: #D2E3FC;\n",
              "    }\n",
              "\n",
              "    [theme=dark] .colab-df-convert:hover {\n",
              "      background-color: #434B5C;\n",
              "      box-shadow: 0px 1px 3px 1px rgba(0, 0, 0, 0.15);\n",
              "      filter: drop-shadow(0px 1px 2px rgba(0, 0, 0, 0.3));\n",
              "      fill: #FFFFFF;\n",
              "    }\n",
              "  </style>\n",
              "\n",
              "    <script>\n",
              "      const buttonEl =\n",
              "        document.querySelector('#df-43663a5a-900d-4229-a81d-59eeb03ea2d7 button.colab-df-convert');\n",
              "      buttonEl.style.display =\n",
              "        google.colab.kernel.accessAllowed ? 'block' : 'none';\n",
              "\n",
              "      async function convertToInteractive(key) {\n",
              "        const element = document.querySelector('#df-43663a5a-900d-4229-a81d-59eeb03ea2d7');\n",
              "        const dataTable =\n",
              "          await google.colab.kernel.invokeFunction('convertToInteractive',\n",
              "                                                    [key], {});\n",
              "        if (!dataTable) return;\n",
              "\n",
              "        const docLinkHtml = 'Like what you see? Visit the ' +\n",
              "          '<a target=\"_blank\" href=https://colab.research.google.com/notebooks/data_table.ipynb>data table notebook</a>'\n",
              "          + ' to learn more about interactive tables.';\n",
              "        element.innerHTML = '';\n",
              "        dataTable['output_type'] = 'display_data';\n",
              "        await google.colab.output.renderOutput(dataTable, element);\n",
              "        const docLink = document.createElement('div');\n",
              "        docLink.innerHTML = docLinkHtml;\n",
              "        element.appendChild(docLink);\n",
              "      }\n",
              "    </script>\n",
              "  </div>\n",
              "\n",
              "\n",
              "<div id=\"df-99931751-0906-4bec-a4ca-d39aef8d721b\">\n",
              "  <button class=\"colab-df-quickchart\" onclick=\"quickchart('df-99931751-0906-4bec-a4ca-d39aef8d721b')\"\n",
              "            title=\"Suggest charts\"\n",
              "            style=\"display:none;\">\n",
              "\n",
              "<svg xmlns=\"http://www.w3.org/2000/svg\" height=\"24px\"viewBox=\"0 0 24 24\"\n",
              "     width=\"24px\">\n",
              "    <g>\n",
              "        <path d=\"M19 3H5c-1.1 0-2 .9-2 2v14c0 1.1.9 2 2 2h14c1.1 0 2-.9 2-2V5c0-1.1-.9-2-2-2zM9 17H7v-7h2v7zm4 0h-2V7h2v10zm4 0h-2v-4h2v4z\"/>\n",
              "    </g>\n",
              "</svg>\n",
              "  </button>\n",
              "\n",
              "<style>\n",
              "  .colab-df-quickchart {\n",
              "      --bg-color: #E8F0FE;\n",
              "      --fill-color: #1967D2;\n",
              "      --hover-bg-color: #E2EBFA;\n",
              "      --hover-fill-color: #174EA6;\n",
              "      --disabled-fill-color: #AAA;\n",
              "      --disabled-bg-color: #DDD;\n",
              "  }\n",
              "\n",
              "  [theme=dark] .colab-df-quickchart {\n",
              "      --bg-color: #3B4455;\n",
              "      --fill-color: #D2E3FC;\n",
              "      --hover-bg-color: #434B5C;\n",
              "      --hover-fill-color: #FFFFFF;\n",
              "      --disabled-bg-color: #3B4455;\n",
              "      --disabled-fill-color: #666;\n",
              "  }\n",
              "\n",
              "  .colab-df-quickchart {\n",
              "    background-color: var(--bg-color);\n",
              "    border: none;\n",
              "    border-radius: 50%;\n",
              "    cursor: pointer;\n",
              "    display: none;\n",
              "    fill: var(--fill-color);\n",
              "    height: 32px;\n",
              "    padding: 0;\n",
              "    width: 32px;\n",
              "  }\n",
              "\n",
              "  .colab-df-quickchart:hover {\n",
              "    background-color: var(--hover-bg-color);\n",
              "    box-shadow: 0 1px 2px rgba(60, 64, 67, 0.3), 0 1px 3px 1px rgba(60, 64, 67, 0.15);\n",
              "    fill: var(--button-hover-fill-color);\n",
              "  }\n",
              "\n",
              "  .colab-df-quickchart-complete:disabled,\n",
              "  .colab-df-quickchart-complete:disabled:hover {\n",
              "    background-color: var(--disabled-bg-color);\n",
              "    fill: var(--disabled-fill-color);\n",
              "    box-shadow: none;\n",
              "  }\n",
              "\n",
              "  .colab-df-spinner {\n",
              "    border: 2px solid var(--fill-color);\n",
              "    border-color: transparent;\n",
              "    border-bottom-color: var(--fill-color);\n",
              "    animation:\n",
              "      spin 1s steps(1) infinite;\n",
              "  }\n",
              "\n",
              "  @keyframes spin {\n",
              "    0% {\n",
              "      border-color: transparent;\n",
              "      border-bottom-color: var(--fill-color);\n",
              "      border-left-color: var(--fill-color);\n",
              "    }\n",
              "    20% {\n",
              "      border-color: transparent;\n",
              "      border-left-color: var(--fill-color);\n",
              "      border-top-color: var(--fill-color);\n",
              "    }\n",
              "    30% {\n",
              "      border-color: transparent;\n",
              "      border-left-color: var(--fill-color);\n",
              "      border-top-color: var(--fill-color);\n",
              "      border-right-color: var(--fill-color);\n",
              "    }\n",
              "    40% {\n",
              "      border-color: transparent;\n",
              "      border-right-color: var(--fill-color);\n",
              "      border-top-color: var(--fill-color);\n",
              "    }\n",
              "    60% {\n",
              "      border-color: transparent;\n",
              "      border-right-color: var(--fill-color);\n",
              "    }\n",
              "    80% {\n",
              "      border-color: transparent;\n",
              "      border-right-color: var(--fill-color);\n",
              "      border-bottom-color: var(--fill-color);\n",
              "    }\n",
              "    90% {\n",
              "      border-color: transparent;\n",
              "      border-bottom-color: var(--fill-color);\n",
              "    }\n",
              "  }\n",
              "</style>\n",
              "\n",
              "  <script>\n",
              "    async function quickchart(key) {\n",
              "      const quickchartButtonEl =\n",
              "        document.querySelector('#' + key + ' button');\n",
              "      quickchartButtonEl.disabled = true;  // To prevent multiple clicks.\n",
              "      quickchartButtonEl.classList.add('colab-df-spinner');\n",
              "      try {\n",
              "        const charts = await google.colab.kernel.invokeFunction(\n",
              "            'suggestCharts', [key], {});\n",
              "      } catch (error) {\n",
              "        console.error('Error during call to suggestCharts:', error);\n",
              "      }\n",
              "      quickchartButtonEl.classList.remove('colab-df-spinner');\n",
              "      quickchartButtonEl.classList.add('colab-df-quickchart-complete');\n",
              "    }\n",
              "    (() => {\n",
              "      let quickchartButtonEl =\n",
              "        document.querySelector('#df-99931751-0906-4bec-a4ca-d39aef8d721b button');\n",
              "      quickchartButtonEl.style.display =\n",
              "        google.colab.kernel.accessAllowed ? 'block' : 'none';\n",
              "    })();\n",
              "  </script>\n",
              "</div>\n",
              "\n",
              "    </div>\n",
              "  </div>\n"
            ],
            "application/vnd.google.colaboratory.intrinsic+json": {
              "type": "dataframe",
              "variable_name": "XDB",
              "summary": "{\n  \"name\": \"XDB\",\n  \"rows\": 12686,\n  \"fields\": [\n    {\n      \"column\": \"Age\",\n      \"properties\": {\n        \"dtype\": \"number\",\n        \"std\": 2,\n        \"min\": 15,\n        \"max\": 22,\n        \"num_unique_values\": 8,\n        \"samples\": [\n          20,\n          15,\n          21\n        ],\n        \"semantic_type\": \"\",\n        \"description\": \"\"\n      }\n    },\n    {\n      \"column\": \"Urban\",\n      \"properties\": {\n        \"dtype\": \"number\",\n        \"std\": 0.4084647920538207,\n        \"min\": 0.0,\n        \"max\": 1.0,\n        \"num_unique_values\": 2,\n        \"samples\": [\n          0.0,\n          1.0\n        ],\n        \"semantic_type\": \"\",\n        \"description\": \"\"\n      }\n    },\n    {\n      \"column\": \"Mother_Edu\",\n      \"properties\": {\n        \"dtype\": \"number\",\n        \"std\": 3.1693710276940226,\n        \"min\": 0.0,\n        \"max\": 20.0,\n        \"num_unique_values\": 21,\n        \"samples\": [\n          8.0,\n          7.0\n        ],\n        \"semantic_type\": \"\",\n        \"description\": \"\"\n      }\n    },\n    {\n      \"column\": \"Father_Edu\",\n      \"properties\": {\n        \"dtype\": \"number\",\n        \"std\": 3.9302673412117572,\n        \"min\": 0.0,\n        \"max\": 20.0,\n        \"num_unique_values\": 21,\n        \"samples\": [\n          8.0,\n          19.0\n        ],\n        \"semantic_type\": \"\",\n        \"description\": \"\"\n      }\n    },\n    {\n      \"column\": \"FamilySize\",\n      \"properties\": {\n        \"dtype\": \"number\",\n        \"std\": 2,\n        \"min\": 1,\n        \"max\": 15,\n        \"num_unique_values\": 15,\n        \"samples\": [\n          9,\n          12\n        ],\n        \"semantic_type\": \"\",\n        \"description\": \"\"\n      }\n    },\n    {\n      \"column\": \"Self_Esteem\",\n      \"properties\": {\n        \"dtype\": \"number\",\n        \"std\": 4.130287472130511,\n        \"min\": 6.0,\n        \"max\": 30.0,\n        \"num_unique_values\": 25,\n        \"samples\": [\n          21.0,\n          15.0\n        ],\n        \"semantic_type\": \"\",\n        \"description\": \"\"\n      }\n    },\n    {\n      \"column\": \"Height\",\n      \"properties\": {\n        \"dtype\": \"number\",\n        \"std\": 4.065759264553301,\n        \"min\": 48.0,\n        \"max\": 83.0,\n        \"num_unique_values\": 34,\n        \"samples\": [\n          60.0,\n          55.0\n        ],\n        \"semantic_type\": \"\",\n        \"description\": \"\"\n      }\n    },\n    {\n      \"column\": \"Weight\",\n      \"properties\": {\n        \"dtype\": \"number\",\n        \"std\": 29.696504293328157,\n        \"min\": 53.0,\n        \"max\": 375.0,\n        \"num_unique_values\": 181,\n        \"samples\": [\n          114.0,\n          162.0\n        ],\n        \"semantic_type\": \"\",\n        \"description\": \"\"\n      }\n    },\n    {\n      \"column\": \"Income\",\n      \"properties\": {\n        \"dtype\": \"number\",\n        \"std\": 33694.500480920324,\n        \"min\": 0.0,\n        \"max\": 216200.0,\n        \"num_unique_values\": 707,\n        \"samples\": [\n          18200.0,\n          4247.0\n        ],\n        \"semantic_type\": \"\",\n        \"description\": \"\"\n      }\n    }\n  ]\n}"
            }
          },
          "metadata": {},
          "execution_count": 51
        }
      ]
    },
    {
      "cell_type": "markdown",
      "source": [
        "Porcentaje de respuestas por cada variable"
      ],
      "metadata": {
        "id": "aM-2_xysCBvX"
      }
    },
    {
      "cell_type": "code",
      "source": [
        "for columna in XDB.columns:\n",
        "  num_respuestas = XDB[columna].count()\n",
        "  total_respuestas = len(XDB)\n",
        "  porcentaje = (num_respuestas / total_respuestas) * 100\n",
        "  print(f\"Porcentaje de respuestas en la variable '{columna}': {porcentaje:.2f}%\")"
      ],
      "metadata": {
        "colab": {
          "base_uri": "https://localhost:8080/"
        },
        "id": "AMVxbh18CBFl",
        "outputId": "37da05b9-f818-4e86-80c4-900c5c3d0fb3"
      },
      "execution_count": null,
      "outputs": [
        {
          "output_type": "stream",
          "name": "stdout",
          "text": [
            "Porcentaje de respuestas en la variable 'Age': 100.00%\n",
            "Porcentaje de respuestas en la variable 'Urban': 99.68%\n",
            "Porcentaje de respuestas en la variable 'Mother_Edu': 93.63%\n",
            "Porcentaje de respuestas en la variable 'Father_Edu': 85.76%\n",
            "Porcentaje de respuestas en la variable 'FamilySize': 100.00%\n",
            "Porcentaje de respuestas en la variable 'Self_Esteem': 94.53%\n",
            "Porcentaje de respuestas en la variable 'Height': 95.72%\n",
            "Porcentaje de respuestas en la variable 'Weight': 95.63%\n",
            "Porcentaje de respuestas en la variable 'Income': 59.70%\n"
          ]
        }
      ]
    },
    {
      "cell_type": "markdown",
      "source": [
        "**3. Contamos cuantas personas están en la base de datos**"
      ],
      "metadata": {
        "id": "ANDaxqhq53c1"
      }
    },
    {
      "cell_type": "code",
      "source": [
        "total_respondents = len(XDB)\n",
        "\n",
        "print(f\"Número total de personas que respondieron: {total_respondents}\")"
      ],
      "metadata": {
        "colab": {
          "base_uri": "https://localhost:8080/"
        },
        "id": "5OsCuGww52nf",
        "outputId": "19f3362b-fe76-4e16-edcb-90a9cd02b86c"
      },
      "execution_count": null,
      "outputs": [
        {
          "output_type": "stream",
          "name": "stdout",
          "text": [
            "Número total de personas que respondieron: 12686\n"
          ]
        }
      ]
    },
    {
      "cell_type": "markdown",
      "source": [
        "**4. Eliminamos las personas que tengan datos faltantes**"
      ],
      "metadata": {
        "id": "TAUpWqHc1nCQ"
      }
    },
    {
      "cell_type": "code",
      "source": [
        "# Eliminar filas con al menos un valor faltante\n",
        "XDB = XDB.dropna()\n",
        "XDB.head(10)"
      ],
      "metadata": {
        "colab": {
          "base_uri": "https://localhost:8080/",
          "height": 363
        },
        "id": "_YCVI73c2rXB",
        "outputId": "769c01b9-1d67-41a9-be10-0a584c1e77a9"
      },
      "execution_count": null,
      "outputs": [
        {
          "output_type": "execute_result",
          "data": {
            "text/plain": [
              "    Age  Urban  Mother_Edu  Father_Edu  FamilySize  Self_Esteem  Height  \\\n",
              "1    20    1.0         5.0         8.0           5         16.0    62.0   \n",
              "5    19    1.0        12.0        12.0           4         27.0    64.0   \n",
              "6    15    1.0        12.0        12.0           3         26.0    65.0   \n",
              "7    21    1.0         9.0         6.0           3         23.0    65.0   \n",
              "8    16    1.0        12.0        10.0           6         26.0    66.0   \n",
              "12   21    1.0        12.0        16.0           5         25.0    71.0   \n",
              "13   16    1.0        12.0        12.0           5         21.0    67.0   \n",
              "14   15    1.0        12.0        12.0           4         23.0    73.0   \n",
              "15   21    1.0        12.0        12.0           4         25.0    63.0   \n",
              "16   22    1.0        12.0        15.0           2         24.0    69.0   \n",
              "\n",
              "    Weight   Income  \n",
              "1    120.0      0.0  \n",
              "5    200.0  40000.0  \n",
              "6    131.0  25000.0  \n",
              "7    179.0  27400.0  \n",
              "8    145.0  52000.0  \n",
              "12   180.0  60000.0  \n",
              "13   135.0  48000.0  \n",
              "14   185.0      0.0  \n",
              "15   130.0  38000.0  \n",
              "16   160.0  48000.0  "
            ],
            "text/html": [
              "\n",
              "  <div id=\"df-40352194-0508-45f9-85c8-a4a35e3be1ce\" class=\"colab-df-container\">\n",
              "    <div>\n",
              "<style scoped>\n",
              "    .dataframe tbody tr th:only-of-type {\n",
              "        vertical-align: middle;\n",
              "    }\n",
              "\n",
              "    .dataframe tbody tr th {\n",
              "        vertical-align: top;\n",
              "    }\n",
              "\n",
              "    .dataframe thead th {\n",
              "        text-align: right;\n",
              "    }\n",
              "</style>\n",
              "<table border=\"1\" class=\"dataframe\">\n",
              "  <thead>\n",
              "    <tr style=\"text-align: right;\">\n",
              "      <th></th>\n",
              "      <th>Age</th>\n",
              "      <th>Urban</th>\n",
              "      <th>Mother_Edu</th>\n",
              "      <th>Father_Edu</th>\n",
              "      <th>FamilySize</th>\n",
              "      <th>Self_Esteem</th>\n",
              "      <th>Height</th>\n",
              "      <th>Weight</th>\n",
              "      <th>Income</th>\n",
              "    </tr>\n",
              "  </thead>\n",
              "  <tbody>\n",
              "    <tr>\n",
              "      <th>1</th>\n",
              "      <td>20</td>\n",
              "      <td>1.0</td>\n",
              "      <td>5.0</td>\n",
              "      <td>8.0</td>\n",
              "      <td>5</td>\n",
              "      <td>16.0</td>\n",
              "      <td>62.0</td>\n",
              "      <td>120.0</td>\n",
              "      <td>0.0</td>\n",
              "    </tr>\n",
              "    <tr>\n",
              "      <th>5</th>\n",
              "      <td>19</td>\n",
              "      <td>1.0</td>\n",
              "      <td>12.0</td>\n",
              "      <td>12.0</td>\n",
              "      <td>4</td>\n",
              "      <td>27.0</td>\n",
              "      <td>64.0</td>\n",
              "      <td>200.0</td>\n",
              "      <td>40000.0</td>\n",
              "    </tr>\n",
              "    <tr>\n",
              "      <th>6</th>\n",
              "      <td>15</td>\n",
              "      <td>1.0</td>\n",
              "      <td>12.0</td>\n",
              "      <td>12.0</td>\n",
              "      <td>3</td>\n",
              "      <td>26.0</td>\n",
              "      <td>65.0</td>\n",
              "      <td>131.0</td>\n",
              "      <td>25000.0</td>\n",
              "    </tr>\n",
              "    <tr>\n",
              "      <th>7</th>\n",
              "      <td>21</td>\n",
              "      <td>1.0</td>\n",
              "      <td>9.0</td>\n",
              "      <td>6.0</td>\n",
              "      <td>3</td>\n",
              "      <td>23.0</td>\n",
              "      <td>65.0</td>\n",
              "      <td>179.0</td>\n",
              "      <td>27400.0</td>\n",
              "    </tr>\n",
              "    <tr>\n",
              "      <th>8</th>\n",
              "      <td>16</td>\n",
              "      <td>1.0</td>\n",
              "      <td>12.0</td>\n",
              "      <td>10.0</td>\n",
              "      <td>6</td>\n",
              "      <td>26.0</td>\n",
              "      <td>66.0</td>\n",
              "      <td>145.0</td>\n",
              "      <td>52000.0</td>\n",
              "    </tr>\n",
              "    <tr>\n",
              "      <th>12</th>\n",
              "      <td>21</td>\n",
              "      <td>1.0</td>\n",
              "      <td>12.0</td>\n",
              "      <td>16.0</td>\n",
              "      <td>5</td>\n",
              "      <td>25.0</td>\n",
              "      <td>71.0</td>\n",
              "      <td>180.0</td>\n",
              "      <td>60000.0</td>\n",
              "    </tr>\n",
              "    <tr>\n",
              "      <th>13</th>\n",
              "      <td>16</td>\n",
              "      <td>1.0</td>\n",
              "      <td>12.0</td>\n",
              "      <td>12.0</td>\n",
              "      <td>5</td>\n",
              "      <td>21.0</td>\n",
              "      <td>67.0</td>\n",
              "      <td>135.0</td>\n",
              "      <td>48000.0</td>\n",
              "    </tr>\n",
              "    <tr>\n",
              "      <th>14</th>\n",
              "      <td>15</td>\n",
              "      <td>1.0</td>\n",
              "      <td>12.0</td>\n",
              "      <td>12.0</td>\n",
              "      <td>4</td>\n",
              "      <td>23.0</td>\n",
              "      <td>73.0</td>\n",
              "      <td>185.0</td>\n",
              "      <td>0.0</td>\n",
              "    </tr>\n",
              "    <tr>\n",
              "      <th>15</th>\n",
              "      <td>21</td>\n",
              "      <td>1.0</td>\n",
              "      <td>12.0</td>\n",
              "      <td>12.0</td>\n",
              "      <td>4</td>\n",
              "      <td>25.0</td>\n",
              "      <td>63.0</td>\n",
              "      <td>130.0</td>\n",
              "      <td>38000.0</td>\n",
              "    </tr>\n",
              "    <tr>\n",
              "      <th>16</th>\n",
              "      <td>22</td>\n",
              "      <td>1.0</td>\n",
              "      <td>12.0</td>\n",
              "      <td>15.0</td>\n",
              "      <td>2</td>\n",
              "      <td>24.0</td>\n",
              "      <td>69.0</td>\n",
              "      <td>160.0</td>\n",
              "      <td>48000.0</td>\n",
              "    </tr>\n",
              "  </tbody>\n",
              "</table>\n",
              "</div>\n",
              "    <div class=\"colab-df-buttons\">\n",
              "\n",
              "  <div class=\"colab-df-container\">\n",
              "    <button class=\"colab-df-convert\" onclick=\"convertToInteractive('df-40352194-0508-45f9-85c8-a4a35e3be1ce')\"\n",
              "            title=\"Convert this dataframe to an interactive table.\"\n",
              "            style=\"display:none;\">\n",
              "\n",
              "  <svg xmlns=\"http://www.w3.org/2000/svg\" height=\"24px\" viewBox=\"0 -960 960 960\">\n",
              "    <path d=\"M120-120v-720h720v720H120Zm60-500h600v-160H180v160Zm220 220h160v-160H400v160Zm0 220h160v-160H400v160ZM180-400h160v-160H180v160Zm440 0h160v-160H620v160ZM180-180h160v-160H180v160Zm440 0h160v-160H620v160Z\"/>\n",
              "  </svg>\n",
              "    </button>\n",
              "\n",
              "  <style>\n",
              "    .colab-df-container {\n",
              "      display:flex;\n",
              "      gap: 12px;\n",
              "    }\n",
              "\n",
              "    .colab-df-convert {\n",
              "      background-color: #E8F0FE;\n",
              "      border: none;\n",
              "      border-radius: 50%;\n",
              "      cursor: pointer;\n",
              "      display: none;\n",
              "      fill: #1967D2;\n",
              "      height: 32px;\n",
              "      padding: 0 0 0 0;\n",
              "      width: 32px;\n",
              "    }\n",
              "\n",
              "    .colab-df-convert:hover {\n",
              "      background-color: #E2EBFA;\n",
              "      box-shadow: 0px 1px 2px rgba(60, 64, 67, 0.3), 0px 1px 3px 1px rgba(60, 64, 67, 0.15);\n",
              "      fill: #174EA6;\n",
              "    }\n",
              "\n",
              "    .colab-df-buttons div {\n",
              "      margin-bottom: 4px;\n",
              "    }\n",
              "\n",
              "    [theme=dark] .colab-df-convert {\n",
              "      background-color: #3B4455;\n",
              "      fill: #D2E3FC;\n",
              "    }\n",
              "\n",
              "    [theme=dark] .colab-df-convert:hover {\n",
              "      background-color: #434B5C;\n",
              "      box-shadow: 0px 1px 3px 1px rgba(0, 0, 0, 0.15);\n",
              "      filter: drop-shadow(0px 1px 2px rgba(0, 0, 0, 0.3));\n",
              "      fill: #FFFFFF;\n",
              "    }\n",
              "  </style>\n",
              "\n",
              "    <script>\n",
              "      const buttonEl =\n",
              "        document.querySelector('#df-40352194-0508-45f9-85c8-a4a35e3be1ce button.colab-df-convert');\n",
              "      buttonEl.style.display =\n",
              "        google.colab.kernel.accessAllowed ? 'block' : 'none';\n",
              "\n",
              "      async function convertToInteractive(key) {\n",
              "        const element = document.querySelector('#df-40352194-0508-45f9-85c8-a4a35e3be1ce');\n",
              "        const dataTable =\n",
              "          await google.colab.kernel.invokeFunction('convertToInteractive',\n",
              "                                                    [key], {});\n",
              "        if (!dataTable) return;\n",
              "\n",
              "        const docLinkHtml = 'Like what you see? Visit the ' +\n",
              "          '<a target=\"_blank\" href=https://colab.research.google.com/notebooks/data_table.ipynb>data table notebook</a>'\n",
              "          + ' to learn more about interactive tables.';\n",
              "        element.innerHTML = '';\n",
              "        dataTable['output_type'] = 'display_data';\n",
              "        await google.colab.output.renderOutput(dataTable, element);\n",
              "        const docLink = document.createElement('div');\n",
              "        docLink.innerHTML = docLinkHtml;\n",
              "        element.appendChild(docLink);\n",
              "      }\n",
              "    </script>\n",
              "  </div>\n",
              "\n",
              "\n",
              "<div id=\"df-c1bce9c5-7413-4e6e-8bd0-8d38ad8b1163\">\n",
              "  <button class=\"colab-df-quickchart\" onclick=\"quickchart('df-c1bce9c5-7413-4e6e-8bd0-8d38ad8b1163')\"\n",
              "            title=\"Suggest charts\"\n",
              "            style=\"display:none;\">\n",
              "\n",
              "<svg xmlns=\"http://www.w3.org/2000/svg\" height=\"24px\"viewBox=\"0 0 24 24\"\n",
              "     width=\"24px\">\n",
              "    <g>\n",
              "        <path d=\"M19 3H5c-1.1 0-2 .9-2 2v14c0 1.1.9 2 2 2h14c1.1 0 2-.9 2-2V5c0-1.1-.9-2-2-2zM9 17H7v-7h2v7zm4 0h-2V7h2v10zm4 0h-2v-4h2v4z\"/>\n",
              "    </g>\n",
              "</svg>\n",
              "  </button>\n",
              "\n",
              "<style>\n",
              "  .colab-df-quickchart {\n",
              "      --bg-color: #E8F0FE;\n",
              "      --fill-color: #1967D2;\n",
              "      --hover-bg-color: #E2EBFA;\n",
              "      --hover-fill-color: #174EA6;\n",
              "      --disabled-fill-color: #AAA;\n",
              "      --disabled-bg-color: #DDD;\n",
              "  }\n",
              "\n",
              "  [theme=dark] .colab-df-quickchart {\n",
              "      --bg-color: #3B4455;\n",
              "      --fill-color: #D2E3FC;\n",
              "      --hover-bg-color: #434B5C;\n",
              "      --hover-fill-color: #FFFFFF;\n",
              "      --disabled-bg-color: #3B4455;\n",
              "      --disabled-fill-color: #666;\n",
              "  }\n",
              "\n",
              "  .colab-df-quickchart {\n",
              "    background-color: var(--bg-color);\n",
              "    border: none;\n",
              "    border-radius: 50%;\n",
              "    cursor: pointer;\n",
              "    display: none;\n",
              "    fill: var(--fill-color);\n",
              "    height: 32px;\n",
              "    padding: 0;\n",
              "    width: 32px;\n",
              "  }\n",
              "\n",
              "  .colab-df-quickchart:hover {\n",
              "    background-color: var(--hover-bg-color);\n",
              "    box-shadow: 0 1px 2px rgba(60, 64, 67, 0.3), 0 1px 3px 1px rgba(60, 64, 67, 0.15);\n",
              "    fill: var(--button-hover-fill-color);\n",
              "  }\n",
              "\n",
              "  .colab-df-quickchart-complete:disabled,\n",
              "  .colab-df-quickchart-complete:disabled:hover {\n",
              "    background-color: var(--disabled-bg-color);\n",
              "    fill: var(--disabled-fill-color);\n",
              "    box-shadow: none;\n",
              "  }\n",
              "\n",
              "  .colab-df-spinner {\n",
              "    border: 2px solid var(--fill-color);\n",
              "    border-color: transparent;\n",
              "    border-bottom-color: var(--fill-color);\n",
              "    animation:\n",
              "      spin 1s steps(1) infinite;\n",
              "  }\n",
              "\n",
              "  @keyframes spin {\n",
              "    0% {\n",
              "      border-color: transparent;\n",
              "      border-bottom-color: var(--fill-color);\n",
              "      border-left-color: var(--fill-color);\n",
              "    }\n",
              "    20% {\n",
              "      border-color: transparent;\n",
              "      border-left-color: var(--fill-color);\n",
              "      border-top-color: var(--fill-color);\n",
              "    }\n",
              "    30% {\n",
              "      border-color: transparent;\n",
              "      border-left-color: var(--fill-color);\n",
              "      border-top-color: var(--fill-color);\n",
              "      border-right-color: var(--fill-color);\n",
              "    }\n",
              "    40% {\n",
              "      border-color: transparent;\n",
              "      border-right-color: var(--fill-color);\n",
              "      border-top-color: var(--fill-color);\n",
              "    }\n",
              "    60% {\n",
              "      border-color: transparent;\n",
              "      border-right-color: var(--fill-color);\n",
              "    }\n",
              "    80% {\n",
              "      border-color: transparent;\n",
              "      border-right-color: var(--fill-color);\n",
              "      border-bottom-color: var(--fill-color);\n",
              "    }\n",
              "    90% {\n",
              "      border-color: transparent;\n",
              "      border-bottom-color: var(--fill-color);\n",
              "    }\n",
              "  }\n",
              "</style>\n",
              "\n",
              "  <script>\n",
              "    async function quickchart(key) {\n",
              "      const quickchartButtonEl =\n",
              "        document.querySelector('#' + key + ' button');\n",
              "      quickchartButtonEl.disabled = true;  // To prevent multiple clicks.\n",
              "      quickchartButtonEl.classList.add('colab-df-spinner');\n",
              "      try {\n",
              "        const charts = await google.colab.kernel.invokeFunction(\n",
              "            'suggestCharts', [key], {});\n",
              "      } catch (error) {\n",
              "        console.error('Error during call to suggestCharts:', error);\n",
              "      }\n",
              "      quickchartButtonEl.classList.remove('colab-df-spinner');\n",
              "      quickchartButtonEl.classList.add('colab-df-quickchart-complete');\n",
              "    }\n",
              "    (() => {\n",
              "      let quickchartButtonEl =\n",
              "        document.querySelector('#df-c1bce9c5-7413-4e6e-8bd0-8d38ad8b1163 button');\n",
              "      quickchartButtonEl.style.display =\n",
              "        google.colab.kernel.accessAllowed ? 'block' : 'none';\n",
              "    })();\n",
              "  </script>\n",
              "</div>\n",
              "\n",
              "    </div>\n",
              "  </div>\n"
            ],
            "application/vnd.google.colaboratory.intrinsic+json": {
              "type": "dataframe",
              "variable_name": "XDB",
              "summary": "{\n  \"name\": \"XDB\",\n  \"rows\": 5948,\n  \"fields\": [\n    {\n      \"column\": \"Age\",\n      \"properties\": {\n        \"dtype\": \"number\",\n        \"std\": 2,\n        \"min\": 15,\n        \"max\": 22,\n        \"num_unique_values\": 8,\n        \"samples\": [\n          19,\n          22,\n          20\n        ],\n        \"semantic_type\": \"\",\n        \"description\": \"\"\n      }\n    },\n    {\n      \"column\": \"Urban\",\n      \"properties\": {\n        \"dtype\": \"number\",\n        \"std\": 0.4061304471011579,\n        \"min\": 0.0,\n        \"max\": 1.0,\n        \"num_unique_values\": 2,\n        \"samples\": [\n          0.0,\n          1.0\n        ],\n        \"semantic_type\": \"\",\n        \"description\": \"\"\n      }\n    },\n    {\n      \"column\": \"Mother_Edu\",\n      \"properties\": {\n        \"dtype\": \"number\",\n        \"std\": 3.1657412986319673,\n        \"min\": 0.0,\n        \"max\": 20.0,\n        \"num_unique_values\": 21,\n        \"samples\": [\n          5.0,\n          7.0\n        ],\n        \"semantic_type\": \"\",\n        \"description\": \"\"\n      }\n    },\n    {\n      \"column\": \"Father_Edu\",\n      \"properties\": {\n        \"dtype\": \"number\",\n        \"std\": 3.9335023933722346,\n        \"min\": 0.0,\n        \"max\": 20.0,\n        \"num_unique_values\": 21,\n        \"samples\": [\n          8.0,\n          19.0\n        ],\n        \"semantic_type\": \"\",\n        \"description\": \"\"\n      }\n    },\n    {\n      \"column\": \"FamilySize\",\n      \"properties\": {\n        \"dtype\": \"number\",\n        \"std\": 2,\n        \"min\": 1,\n        \"max\": 15,\n        \"num_unique_values\": 15,\n        \"samples\": [\n          11,\n          12\n        ],\n        \"semantic_type\": \"\",\n        \"description\": \"\"\n      }\n    },\n    {\n      \"column\": \"Self_Esteem\",\n      \"properties\": {\n        \"dtype\": \"number\",\n        \"std\": 4.05830811368795,\n        \"min\": 7.0,\n        \"max\": 30.0,\n        \"num_unique_values\": 24,\n        \"samples\": [\n          17.0,\n          15.0\n        ],\n        \"semantic_type\": \"\",\n        \"description\": \"\"\n      }\n    },\n    {\n      \"column\": \"Height\",\n      \"properties\": {\n        \"dtype\": \"number\",\n        \"std\": 4.028542368840974,\n        \"min\": 51.0,\n        \"max\": 80.0,\n        \"num_unique_values\": 28,\n        \"samples\": [\n          68.0,\n          79.0\n        ],\n        \"semantic_type\": \"\",\n        \"description\": \"\"\n      }\n    },\n    {\n      \"column\": \"Weight\",\n      \"properties\": {\n        \"dtype\": \"number\",\n        \"std\": 30.12692692843141,\n        \"min\": 72.0,\n        \"max\": 375.0,\n        \"num_unique_values\": 164,\n        \"samples\": [\n          212.0,\n          159.0\n        ],\n        \"semantic_type\": \"\",\n        \"description\": \"\"\n      }\n    },\n    {\n      \"column\": \"Income\",\n      \"properties\": {\n        \"dtype\": \"number\",\n        \"std\": 35236.94395256019,\n        \"min\": 0.0,\n        \"max\": 216200.0,\n        \"num_unique_values\": 613,\n        \"samples\": [\n          43500.0,\n          59000.0\n        ],\n        \"semantic_type\": \"\",\n        \"description\": \"\"\n      }\n    }\n  ]\n}"
            }
          },
          "metadata": {},
          "execution_count": 54
        }
      ]
    },
    {
      "cell_type": "markdown",
      "source": [
        "**4. Contamos ahora cuántas personas quedan con datos para evaluar el modelo después de eliminar los que tenían datos faltantes**"
      ],
      "metadata": {
        "id": "gBBROG-T6IJy"
      }
    },
    {
      "cell_type": "code",
      "source": [
        "total_respondents = len(XDB)\n",
        "\n",
        "print(f\"Número total de personas que respondieron: {total_respondents}\")"
      ],
      "metadata": {
        "colab": {
          "base_uri": "https://localhost:8080/"
        },
        "id": "QcRfWRj66HjR",
        "outputId": "66fdce89-d983-4fde-8a61-488b6569d75e"
      },
      "execution_count": null,
      "outputs": [
        {
          "output_type": "stream",
          "name": "stdout",
          "text": [
            "Número total de personas que respondieron: 5948\n"
          ]
        }
      ]
    },
    {
      "cell_type": "markdown",
      "source": [
        "**Ahora verificamos qué porcentaje de las personas de la base de datos viven en zonas urbanas o rurales**"
      ],
      "metadata": {
        "id": "QfScvhhoDEBm"
      }
    },
    {
      "cell_type": "code",
      "source": [
        "# Porcentaje de cada categoría en \"Urban\"\n",
        "categories = XDB['Urban'].value_counts(normalize=True) * 100\n",
        "print('Porcentaje de datos en cada categoría:\\n', categories)\n",
        "#(Urbano) 1.0 → 79.16%: Significa que el 79.16% de las personas en la base de datos viven en áreas urbanas.\n",
        "#(Rural) 0.0 → 20.83%: Indica que el 20.83% de las personas viven en áreas rurales."
      ],
      "metadata": {
        "colab": {
          "base_uri": "https://localhost:8080/"
        },
        "id": "Lg9-sPm8DEmg",
        "outputId": "1e49d414-66e5-47ef-93e6-1ddefe1e5357"
      },
      "execution_count": null,
      "outputs": [
        {
          "output_type": "stream",
          "name": "stdout",
          "text": [
            "Porcentaje de datos en cada categoría:\n",
            " Urban\n",
            "1.0    79.169469\n",
            "0.0    20.830531\n",
            "Name: proportion, dtype: float64\n"
          ]
        }
      ]
    },
    {
      "cell_type": "markdown",
      "source": [
        "**4. Separar las variables de entrada y salida. En este caso la de salida sería 'Urban', y de entrada serían 'Age','Mother_Edu','Father_Edu','FamilySize','Self_Esteem','Height','Weight','Income'**"
      ],
      "metadata": {
        "id": "V5TYSHe13hfm"
      }
    },
    {
      "cell_type": "code",
      "source": [
        "XD=XDB[['Age','Mother_Edu','Father_Edu','FamilySize','Self_Esteem','Height','Weight','Income']] #XD -> Variables de entrada\n",
        "YD=XDB[['Urban']] #YD -> Variables de salida (Variable pronóstico)"
      ],
      "metadata": {
        "id": "qCoDxQw23xzZ"
      },
      "execution_count": null,
      "outputs": []
    },
    {
      "cell_type": "markdown",
      "source": [
        "\n",
        "- Determinar el intervalo en el cual se encuentra la variación de la Edad\n",
        "- Determinar el intervalo en el cual se encuentra la variación de la Altura\n",
        "- Determinar el intervalo en el cual se encuentra la variación del Peso de las Personas\n"
      ],
      "metadata": {
        "id": "LAAF8Lkn9meu"
      }
    },
    {
      "cell_type": "code",
      "source": [
        "# Intervalo de la Edad\n",
        "age_min = XDB['Age'].min()\n",
        "age_max = XDB['Age'].max()\n",
        "age_interval = (age_min, age_max)\n",
        "\n",
        "# Intervalo de la Altura\n",
        "height_min = XDB['Height'].min()\n",
        "height_max = XDB['Height'].max()\n",
        "height_interval = (height_min, height_max)\n",
        "\n",
        "# Intervalo del Peso\n",
        "weight_min = XDB['Weight'].min()\n",
        "weight_max = XDB['Weight'].max()\n",
        "weight_interval = (weight_min, weight_max)\n",
        "\n",
        "# Imprimir los resultados\n",
        "print(f\"Intervalo de la Edad: {age_interval}\")\n",
        "print(f\"Intervalo de la Altura: {height_interval}\")\n",
        "print(f\"Intervalo del Peso: {weight_interval}\")"
      ],
      "metadata": {
        "colab": {
          "base_uri": "https://localhost:8080/"
        },
        "id": "z4tp92yv9y1I",
        "outputId": "9417c70e-1cc0-42ab-9b21-c7293b21e07d"
      },
      "execution_count": null,
      "outputs": [
        {
          "output_type": "stream",
          "name": "stdout",
          "text": [
            "Intervalo de la Edad: (15, 22)\n",
            "Intervalo de la Altura: (51.0, 80.0)\n",
            "Intervalo del Peso: (72.0, 375.0)\n"
          ]
        }
      ]
    },
    {
      "cell_type": "markdown",
      "source": [
        "**5. Implementación del modelo**"
      ],
      "metadata": {
        "id": "3LSsjhUi-4Iz"
      }
    },
    {
      "cell_type": "code",
      "source": [
        "from sklearn.naive_bayes import GaussianNB #Se importa la librería de Naive Bayes\n",
        "\n",
        "mnb=GaussianNB() # Aloja el modelo\n",
        "mnb.fit(XD,YD) #Entrena el modelo\n",
        "\n",
        "#Comenzamos obteniendo la información del modelo\n",
        "u=mnb.theta_ #La media de las variables analizadas es\n",
        "print(\"La media de las variables analizadas es:\\n\",u)\n",
        "\n",
        "var=mnb.var_ # Se calculan las varianzas (qué tan alejados estan los datos de la media)\n",
        "print(\"La varianza de las variables analizadas es:\\n\",var)\n",
        "sigma=np.sqrt(var) #Se calcula la desviación estándar\n",
        "print(\"La desviación estándar de las variables analizadas es:\\n\",sigma)\n",
        "\n",
        "#Se determinan los limites superiores e inferiores de las variables analizadas\n",
        "LS=u+sigma\n",
        "LI=u-sigma\n",
        "print(\"El límite superior de las variables analizadas es:\\n\",LS)\n",
        "print(\"El límite inferior de las variables analizadas es:\\n\",LI)"
      ],
      "metadata": {
        "colab": {
          "base_uri": "https://localhost:8080/"
        },
        "id": "QgAGRx38-8Dm",
        "outputId": "d1074aa1-cb25-4742-f2d6-b2c83a6f50ee"
      },
      "execution_count": null,
      "outputs": [
        {
          "output_type": "stream",
          "name": "stdout",
          "text": [
            "La media de las variables analizadas es:\n",
            " [[1.83640032e+01 1.07312349e+01 1.02711864e+01 4.73930589e+00\n",
            "  2.19951574e+01 6.72429379e+01 1.49003228e+02 3.01248854e+04]\n",
            " [1.83618603e+01 1.11613931e+01 1.12331705e+01 4.68103631e+00\n",
            "  2.25744319e+01 6.69116585e+01 1.44750903e+02 3.32736742e+04]]\n",
            "La varianza de las variables analizadas es:\n",
            " [[6.11377773e+00 9.96419474e+00 1.51194652e+01 6.51406931e+00\n",
            "  1.77789403e+01 1.66650620e+01 9.21039647e+02 1.00161093e+09]\n",
            " [6.11792319e+00 1.15645045e+01 1.69373304e+01 5.96364977e+00\n",
            "  1.76201044e+01 1.76562243e+01 9.01712618e+02 1.30246862e+09]]\n",
            "La desviación estándar de las variables analizadas es:\n",
            " [[2.47260545e+00 3.15661127e+00 3.88837565e+00 2.55226748e+00\n",
            "  4.21650807e+00 4.08228636e+00 3.03486350e+01 3.16482374e+04]\n",
            " [2.47344359e+00 3.40066236e+00 4.11549881e+00 2.44205851e+00\n",
            "  4.19763081e+00 4.20193102e+00 3.00285301e+01 3.60897302e+04]]\n",
            "El límite superior de las variables analizadas es:\n",
            " [[2.08366087e+01 1.38878461e+01 1.41595621e+01 7.29157338e+00\n",
            "  2.62116655e+01 7.13252242e+01 1.79351863e+02 6.17731228e+04]\n",
            " [2.08353039e+01 1.45620554e+01 1.53486693e+01 7.12309482e+00\n",
            "  2.67720628e+01 7.11135895e+01 1.74779433e+02 6.93634044e+04]]\n",
            "El límite inferior de las variables analizadas es:\n",
            " [[ 1.58913978e+01  7.57462359e+00  6.38281079e+00  2.18703841e+00\n",
            "   1.77786493e+01  6.31606515e+01  1.18654593e+02 -1.52335198e+03]\n",
            " [ 1.58884167e+01  7.76073072e+00  7.11767172e+00  2.23897780e+00\n",
            "   1.83768011e+01  6.27097275e+01  1.14722372e+02 -2.81605593e+03]]\n"
          ]
        },
        {
          "output_type": "stream",
          "name": "stderr",
          "text": [
            "/usr/local/lib/python3.11/dist-packages/sklearn/utils/validation.py:1408: DataConversionWarning: A column-vector y was passed when a 1d array was expected. Please change the shape of y to (n_samples, ), for example using ravel().\n",
            "  y = column_or_1d(y, warn=True)\n"
          ]
        }
      ]
    },
    {
      "cell_type": "markdown",
      "source": [
        "¿Para una persona con las siguientes características ['Age','Mother_Edu','Father_Edu','FamilySize','Self_Esteem','Height','Weight','Income']=[34,12,15,2,24,69,160,48000] indicar si vive en la ciudad o las áreas rurales?"
      ],
      "metadata": {
        "id": "6wLlmHWtEx1w"
      }
    },
    {
      "cell_type": "code",
      "source": [
        "XDS=[[34,12,15,2,24,69,160,48000]] #Como un valor de entrada\n",
        "YDP=mnb.predict(XDS) #Se obtiene la predicción\n",
        "print(\"La predicción del individuo es:\\n\",YDP)\n"
      ],
      "metadata": {
        "colab": {
          "base_uri": "https://localhost:8080/"
        },
        "id": "cLcPI_JsE0KK",
        "outputId": "9b24e3eb-5b98-4d80-bb75-db8f61e75c84"
      },
      "execution_count": null,
      "outputs": [
        {
          "output_type": "stream",
          "name": "stdout",
          "text": [
            "La predicción del individuo es:\n",
            " [1.]\n"
          ]
        },
        {
          "output_type": "stream",
          "name": "stderr",
          "text": [
            "/usr/local/lib/python3.11/dist-packages/sklearn/utils/validation.py:2739: UserWarning: X does not have valid feature names, but GaussianNB was fitted with feature names\n",
            "  warnings.warn(\n"
          ]
        }
      ]
    },
    {
      "cell_type": "markdown",
      "source": [
        "**Exactitud del modelo**"
      ],
      "metadata": {
        "id": "2o-xxSvTFIdp"
      }
    },
    {
      "cell_type": "code",
      "source": [
        "from sklearn.metrics import confusion_matrix\n",
        "\n",
        "#Haga una revisión de los datos\n",
        "YDP2=mnb.predict(XD) #Haga el pronostico para los datos base\n",
        "\n",
        "cm=confusion_matrix(YD,YDP2) #Cree la matriz de confusión\n",
        "print(\"La matriz de confusión es:\\n\",cm)\n",
        "\n",
        "VN=cm[0,0];FP=cm[0,1];VP=cm[1,1];FN=cm[1,0]\n",
        "\n",
        "#Métricas desempeño\n",
        "Ex=(VP+VN)/(VP+VN+FP+FN) #Exactitud: comportamiento general urbano\n",
        "print(\"La exactitud del modelo es:\\n\",Ex)\n",
        "\n",
        "TE=(FN+FP)/(VP+VN+FP+FN) #Tasa de error: comportamiento general rural\n",
        "print(\"La tasa de error del modelo es:\\n\",TE)\n",
        "\n",
        "Se=VP/(VP+FN) #Sensibilidad: comportamiento correcto urbano\n",
        "print(\"La sensibilidad del modelo es:\\n\",Se)\n",
        "\n",
        "Sp=VN/(VN+FP) #Especificidad: comportamiento correcto rural\n",
        "              #Sobre el total de los rurales\n",
        "print(\"La especificidad del modelo es:\\n\",Sp)\n",
        "\n"
      ],
      "metadata": {
        "colab": {
          "base_uri": "https://localhost:8080/"
        },
        "id": "iIS2FBvYFKdm",
        "outputId": "7d741b28-6995-4557-e16f-a80cedbc1303"
      },
      "execution_count": null,
      "outputs": [
        {
          "output_type": "stream",
          "name": "stdout",
          "text": [
            "La matriz de confusión es:\n",
            " [[   3 1236]\n",
            " [   8 4701]]\n",
            "La exactitud del modelo es:\n",
            " 0.7908540685944856\n",
            "La tasa de error del modelo es:\n",
            " 0.20914593140551446\n",
            "La sensibilidad del modelo es:\n",
            " 0.9983011255043533\n",
            "La especificidad del modelo es:\n",
            " 0.002421307506053269\n"
          ]
        }
      ]
    },
    {
      "cell_type": "markdown",
      "source": [
        "**Análisis de resultados**\n",
        "\n",
        "De acuerdo con los resultados obtenidos del modelo Naive Bayes  para la base de datos proporcionada, se utilizaron las variables 'Age', 'Mother_Edu', 'Father_Edu', 'FamilySize', 'Self_Esteem', 'Height', 'Weight', y 'Income' para determinar si las personas de la base de datos viven en un lugar 'Urbano' o 'Rural'. La base de datos contiene un total de 12686 registros, de los cuales después de eliminar a las personas que tenían datos incompletos obtuvimos un total de 5984 datos viables para el análisis, con un (79.16%) de datos correspondientes a las personas que viven en un área urbana y un (20.83%) a las personas que viven en un área rural. El modelo alcanzó una exactitud del (79.09%), lo que implica que el casi el 80% de las predicciones de la clasificación de residencia para el área urbana fueron correctas. La tasa de error es del (20.91%), lo que significa que el modelo cometió un 20.91% de errores en sus predicciones de las personas que viven en un área rural. En cuanto a la sensibilidad, el modelo mostró un valor muy positivo de (99.83%), lo que indica que tiene una capacidad sobresaliente para identificar de manera correcta los casos de las personas que viven en sectores urbanos. Sin embargo, la especificidad es muy baja (0.24%), lo que refleja la dificultad del modelo para predecir correctamente los casos de las personas que habitan en lugares rurales. La precisión del modelo alcanzó un (79.18%), lo que significa que de manera correcta puede predecir las personas que viven en áreas urbanas. Finalmente, la precisión negativa fue baja (27.27%), lo que destaca una deficiencia en la predicción de las personas que viven en un sector rural. Podemos concluir entonces que el modelo es muy útil para identificar los casos de las personas que viven en áreas urbanas, sin embargo tiende a ser menos preciso en los casos de residencias rurales."
      ],
      "metadata": {
        "id": "brAZ1DRUHv-n"
      }
    }
  ]
}